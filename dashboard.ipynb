{
 "cells": [
  {
   "cell_type": "code",
   "execution_count": 23,
   "metadata": {},
   "outputs": [],
   "source": [
    "# imports\n",
    "import panel as pn\n",
    "pn.extension('plotly')\n",
    "import plotly.express as px\n",
    "import pandas as pd\n",
    "import numpy as np\n",
    "import hvplot.pandas\n",
    "import matplotlib.pyplot as plt\n",
    "import os\n",
    "from pathlib import Path\n",
    "from dotenv import load_dotenv"
   ]
  },
  {
   "cell_type": "code",
   "execution_count": 24,
   "metadata": {},
   "outputs": [],
   "source": [
    "# Read the Mapbox API key\n",
    "load_dotenv()\n",
    "mapbox_token = os.getenv(\"access_token\")\n",
    "# Set the Mapbox API\n",
    "px.set_mapbox_access_token(mapbox_token)"
   ]
  },
  {
   "cell_type": "code",
   "execution_count": 25,
   "metadata": {},
   "outputs": [],
   "source": [
    "# Import the CSVs to Pandas DataFrames\n",
    "\n",
    "data_2015_path = Path(\"./Resources/Historic_Data/fanduel_salary_production/NFL-HistoricalProduction_2015.csv\")\n",
    "data_2016_path = Path(\"./Resources/Historic_Data/fanduel_salary_production/NFL-HistoricalProduction_2016.csv\")\n",
    "data_2017_path = Path(\"./Resources/Historic_Data/fanduel_salary_production/NFL-HistoricalProduction_2017.csv\")\n",
    "data_2018_path = Path(\"./Resources/Historic_Data/fanduel_salary_production/NFL-HistoricalProduction_2018.csv\")\n",
    "data_2019_path = Path(\"./Resources/Historic_Data/fanduel_salary_production/NFL-HistoricalProduction_2019.csv\")\n",
    "data_2020_path = Path(\"./Resources/Historic_Data/fanduel_salary_production/NFL-HistoricalProduction_2020.csv\")\n",
    "\n",
    "#Reading in the CSV into into seperate dataframes\n",
    "df_1 = pd.read_csv(data_2015_path)\n",
    "df_2 = pd.read_csv(data_2016_path)\n",
    "df_3 = pd.read_csv(data_2017_path)\n",
    "df_4 = pd.read_csv(data_2018_path)\n",
    "df_5 = pd.read_csv(data_2019_path)\n",
    "df_6 = pd.read_csv(data_2020_path)"
   ]
  },
  {
   "cell_type": "code",
   "execution_count": 1,
   "metadata": {},
   "outputs": [],
   "source": [
    "# Define Panel Visualization Functions\n",
    "\n",
    "\n",
    "def top_20_players_map(df):\n",
    "    \"\"\"Top 20 Players Map\"\"\"   \n",
    "    df_player_total_points = df.groupby(['Player','P']).sum()    \n",
    "    df_player_sorted_position_fd_avg = df_player_total_points.sort_values(['P', 'FD Points'], ascending=[True,False])\n",
    "\n",
    "    ##Select top 20 players for each position (QB, RB, WR, TE) and put into a dataframe\n",
    "\n",
    "    df_player_top_20_QB = df_player_sorted_position_fd_avg.filter(like='QB', axis=0).head(20)\n",
    "    df_player_top_20_WR = df_player_sorted_position_fd_avg.filter(like='WR', axis=0).head(20)\n",
    "    df_player_top_20_RB = df_player_sorted_position_fd_avg.filter(like='RB', axis=0).head(20)\n",
    "    df_player_top_20_TE = df_player_sorted_position_fd_avg.filter(like='TE', axis=0).head(20)\n",
    "    #combined_df_player_top_20\n",
    "\n",
    "    combined_df_player_top_20 = pd.concat([df_player_top_20_QB, df_player_top_20_WR,df_player_top_20_RB,df_player_top_20_TE], axis=0)\n",
    "    combined_df_player_top_20\n",
    "    \n",
    "    # Plot Data\n",
    "    top_20_players_map = combined_df_player_top_20.hvplot.scatter(x='Player',y=\"FD Points\",ylabel='Average_Points',ylim={10,30},groupby='P', rot=90)  \n",
    "    return top_20_players_map\n",
    "\n",
    "\n"
   ]
  },
  {
   "cell_type": "code",
   "execution_count": 2,
   "metadata": {},
   "outputs": [
    {
     "ename": "NameError",
     "evalue": "name 'pn' is not defined",
     "output_type": "error",
     "traceback": [
      "\u001b[1;31m---------------------------------------------------------------------------\u001b[0m",
      "\u001b[1;31mNameError\u001b[0m                                 Traceback (most recent call last)",
      "\u001b[1;32m<ipython-input-2-e8fc1f512f76>\u001b[0m in \u001b[0;36m<module>\u001b[1;34m\u001b[0m\n\u001b[0;32m      1\u001b[0m \u001b[1;31m# Create panels to structure the layout of the dashboard\u001b[0m\u001b[1;33m\u001b[0m\u001b[1;33m\u001b[0m\u001b[1;33m\u001b[0m\u001b[0m\n\u001b[0;32m      2\u001b[0m \u001b[1;33m\u001b[0m\u001b[0m\n\u001b[1;32m----> 3\u001b[1;33m Top20Players_column = pn.Column(\n\u001b[0m\u001b[0;32m      4\u001b[0m     \u001b[1;34m\"## NFL Top 20 Players 2015\"\u001b[0m\u001b[1;33m,\u001b[0m\u001b[1;33m\u001b[0m\u001b[1;33m\u001b[0m\u001b[0m\n\u001b[0;32m      5\u001b[0m     \u001b[0mtop_20_players_map\u001b[0m\u001b[1;33m(\u001b[0m\u001b[0mdf_1\u001b[0m\u001b[1;33m)\u001b[0m\u001b[1;33m,\u001b[0m\u001b[1;33m\u001b[0m\u001b[1;33m\u001b[0m\u001b[0m\n",
      "\u001b[1;31mNameError\u001b[0m: name 'pn' is not defined"
     ]
    }
   ],
   "source": [
    "# Create panels to structure the layout of the dashboard\n",
    "\n",
    "Top20Players_column = pn.Column(\n",
    "    \"## NFL Top 20 Players 2015\",\n",
    "    top_20_players_map(df_1),\n",
    "    \"## NFL Top 20 Players 2016\",\n",
    "    top_20_players_map(df_2),\n",
    "    \"## NFL Top 20 Players 2017\",\n",
    "    top_20_players_map(df_3),\n",
    "    \"## NFL Top 20 Players 2018\",\n",
    "    top_20_players_map(df_4),\n",
    "    \"## NFL Top 20 Players 2019\",\n",
    "    top_20_players_map(df_5),\n",
    "    \"## NFL Top 20 Players 2020\",\n",
    "    top_20_players_map(df_6)\n",
    ")\n"
   ]
  },
  {
   "cell_type": "code",
   "execution_count": 28,
   "metadata": {},
   "outputs": [
    {
     "name": "stdout",
     "output_type": "stream",
     "text": [
      "Launching server at http://localhost:61846\n"
     ]
    },
    {
     "data": {
      "text/plain": [
       "<bokeh.server.server.Server at 0x12239a510>"
      ]
     },
     "execution_count": 28,
     "metadata": {},
     "output_type": "execute_result"
    }
   ],
   "source": [
    "# Serve the Panel Dashboard\n",
    "\n",
    "dashboard = pn.Tabs(\n",
    "   \n",
    "    (\"NFL Top 20 Players\", Top20Players_column)    \n",
    "\n",
    ")\n",
    "dashboard.show()"
   ]
  },
  {
   "cell_type": "code",
   "execution_count": null,
   "metadata": {},
   "outputs": [],
   "source": []
  },
  {
   "cell_type": "code",
   "execution_count": null,
   "metadata": {},
   "outputs": [],
   "source": []
  }
 ],
 "metadata": {
  "kernelspec": {
   "display_name": "pyvizenv",
   "language": "python",
   "name": "pyvizenv"
  },
  "language_info": {
   "codemirror_mode": {
    "name": "ipython",
    "version": 3
   },
   "file_extension": ".py",
   "mimetype": "text/x-python",
   "name": "python",
   "nbconvert_exporter": "python",
   "pygments_lexer": "ipython3",
   "version": "3.7.7"
  }
 },
 "nbformat": 4,
 "nbformat_minor": 4
}
