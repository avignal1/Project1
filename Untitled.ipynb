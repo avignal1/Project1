{
 "cells": [
  {
   "cell_type": "code",
   "execution_count": null,
   "metadata": {},
   "outputs": [],
   "source": [
    "import numpy as np\n",
    "import numpy as np\n",
    "import pandas as pd\n",
    "import os\n",
    "import alpaca_trade_api as tradeapi\n",
    "import datetime as dt\n",
    "import pytz\n",
    "\n",
    "\n",
    "\n",
    "class MCSimulation:\n",
    "    \"\"\"\n",
    "    A Python Class for running Monte Carolo Simulations on player rosters\n",
    "    \n",
    "    Attributes\n",
    "    __________\n",
    "    roster : pandas.DataFrame\n",
    "        players to run the simulation on\n",
    "    nSim: int\n",
    "        number of samples in simulation\n",
    "    nGame: int\n",
    "        number of games\n",
    "    simulated_total_points\n",
    "        simulated data from Monte Carlo\n",
    "    Confidence Interval: pandas. Series\n",
    "        the confidence interval\n",
    "    \n",
    "    \"\"\"\n",
    "def _init_(self, roster, nSim=1000, nGame=13):\n",
    "    \n",
    "    if not isinstance(roster, pd.DataFrame):\n",
    "        raise TypeError(\"roster must be a Pandas DataFrame\")\n",
    "        \n",
    "    weights=roster.\n",
    "    \n"
   ]
  }
 ],
 "metadata": {
  "kernelspec": {
   "display_name": "Python 3",
   "language": "python",
   "name": "python3"
  },
  "language_info": {
   "codemirror_mode": {
    "name": "ipython",
    "version": 3
   },
   "file_extension": ".py",
   "mimetype": "text/x-python",
   "name": "python",
   "nbconvert_exporter": "python",
   "pygments_lexer": "ipython3",
   "version": "3.8.3"
  }
 },
 "nbformat": 4,
 "nbformat_minor": 4
}
